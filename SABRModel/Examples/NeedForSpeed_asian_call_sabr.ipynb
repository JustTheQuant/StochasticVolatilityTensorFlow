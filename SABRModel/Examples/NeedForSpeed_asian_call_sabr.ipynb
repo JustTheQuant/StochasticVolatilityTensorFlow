{
 "cells": [
  {
   "cell_type": "code",
   "execution_count": null,
   "metadata": {
    "id": "vnp3DixJGB59"
   },
   "outputs": [],
   "source": [
    "import numpy as np\n",
    "import tensorflow as tf\n",
    "import matplotlib.pyplot as plt\n",
    "import time\n",
    "from multiprocessing import Pool, cpu_count"
   ]
  },
  {
   "cell_type": "markdown",
   "metadata": {
    "id": "-Dwr7PUfGJKd"
   },
   "source": [
    "# SABR Model Different Realisations"
   ]
  },
  {
   "cell_type": "code",
   "execution_count": null,
   "metadata": {
    "id": "O2DGQ8pVc5Ug"
   },
   "outputs": [],
   "source": [
    "# Graph version\n",
    "@tf.function(\n",
    "    input_signature=[\n",
    "        tf.TensorSpec(shape=(), dtype=tf.float32),\n",
    "        tf.TensorSpec(shape=(), dtype=tf.float32),\n",
    "        tf.TensorSpec(shape=(), dtype=tf.float32),\n",
    "        tf.TensorSpec(shape=(), dtype=tf.float32),\n",
    "        tf.TensorSpec(shape=(), dtype=tf.float32),\n",
    "        tf.TensorSpec(shape=[None], dtype=tf.float32),\n",
    "        tf.TensorSpec(shape=(), dtype=tf.int32),\n",
    "        tf.TensorSpec(shape=(), dtype=tf.int32),\n",
    "    ],\n",
    "\n",
    ")\n",
    "def SABR_func_graph(S0, maturity, alpha0, vega, rho, strk, mcmSmpl, nStps): # Graph Execution\n",
    "    \"\"\" Computes the price of an Asian call option under the SABR model.\n",
    "\n",
    "              Args:\n",
    "                S0: float, initial price\n",
    "                maturity: float, maturity of the option\n",
    "                alpha0: float, initial value of volatility\n",
    "                vega: float, volatility of volatility\n",
    "                rho: float, correlation\n",
    "                strk: array(float,), strike\n",
    "                mcSmpl: int, the number of Monte Carlo paths to generate\n",
    "                n: int, the number of intervals on which we split [0,T]\n",
    "\n",
    "              Returns:\n",
    "                A float32 tensor\n",
    "\n",
    "            \"\"\"\n",
    "    print('Tracing')\n",
    "\n",
    "    dt = maturity/tf.cast(nStps , dtype=tf.float32 ) # time increment\n",
    "    t =  tf.linspace(0.0, maturity, nStps+1) #time interval split\n",
    "\n",
    "    # Simulating SABR volatility Wiener process\n",
    "    paddings = tf.constant([[0, 0,], [1, 0]])\n",
    "    vol_wnr_inc = tf.sqrt(dt)*tf.random.normal((mcmSmpl, nStps), mean=0.0, stddev=1.0, dtype=tf.float32) # wiener process icrements with W0=0\n",
    "    vol_wnr_inc = tf.pad(vol_wnr_inc, paddings, \"CONSTANT\")\n",
    "    vol_wnr_proc = tf.cumsum(vol_wnr_inc, axis=1) # Wiener process - summation is done rowise\n",
    "    # Simulating SABR stock Wiener process\n",
    "    und_wnr_inc = rho*vol_wnr_inc[:,1:] +  tf.sqrt(1-tf.pow(rho,2))*tf.sqrt(dt)*tf.random.normal((mcmSmpl, nStps), mean=0.0, stddev=1.0, dtype=tf.float32) # wiener process icrements with W0=0\n",
    "    und_wnr_inc = tf.pad(und_wnr_inc, paddings, \"CONSTANT\")\n",
    "\n",
    "    # REGULAR PATHS\n",
    "    #Simulating SABR volatility path\n",
    "    hlp = alpha0*tf.exp( -0.5*tf.pow(vega,2)*t )\n",
    "\n",
    "    vol_path = hlp*tf.exp( vega*vol_wnr_proc )\n",
    "    #vol_path = alpha0*tf.exp( -0.5*tf.pow(vega,2)*t + vega*vol_wnr_proc ) # Volatility path with alpha0 included\n",
    "    intgr_vol_dt = dt*(tf.cumsum(tf.pow(vol_path,2),axis=1)[:,:nStps]) #Int [0,T] sigma_t**2 dt\n",
    "    intgr_vol_dWt = tf.cumsum((vol_path[:,:nStps])*(und_wnr_inc[:,1:]),axis=1) #Int [0,T] sigma_t dWt\n",
    "\n",
    "    # Simulating SABR stock path\n",
    "    und_path = S0*( tf.exp( tf.pad( -0.5*intgr_vol_dt + intgr_vol_dWt, paddings, \"CONSTANT\")  ) )\n",
    "\n",
    "    # ANTITHETIC PATHS\n",
    "    #Simulating SABR volatility path\n",
    "    vol_path_a = hlp*tf.exp(vega*(-vol_wnr_proc)) #alpha0*tf.exp( -0.5*tf.pow(vega,2)*t + vega*(-vol_wnr_proc) ) # Volatility path with alpha0 included\n",
    "    intgr_vol_dt_a = dt*(tf.cumsum(tf.pow(vol_path_a,2),axis=1)[:,:nStps]) #Int [0,T] sigma_t**2 dt\n",
    "    intgr_vol_dWt_a = tf.cumsum((vol_path_a[:,:nStps])*(-und_wnr_inc[:,1:]),axis=1) #Int [0,T] sigma_t dWt\n",
    "\n",
    "    # Simulating SABR stock path\n",
    "    und_path_a = S0*( tf.exp( tf.pad( -0.5*intgr_vol_dt_a + intgr_vol_dWt_a, paddings, \"CONSTANT\")  ) )\n",
    "\n",
    "    #del vol_wnr_proc, vol_wnr_inc, und_wnr_inc # This line slows down a code.\n",
    "\n",
    "    new_strike = tf.reshape( strk, [-1,1]) # Reshape strike to [[K1],[K2],...]\n",
    "    price_lst_mc = (tf.maximum(tf.math.reduce_mean(und_path,axis=1)-new_strike,0)+tf.maximum(tf.math.reduce_mean(und_path_a,axis=1)-new_strike,0))/2\n",
    "    price = tf.math.reduce_mean( price_lst_mc, axis=1  )\n",
    "\n",
    "    return  price"
   ]
  },
  {
   "cell_type": "code",
   "execution_count": null,
   "metadata": {
    "id": "O8javG5QGJqY"
   },
   "outputs": [],
   "source": [
    "# The same as above just without decorator @tf.function\n",
    "def SABR_func_eager(S0, maturity, alpha0, vega, rho, strk, mcmSmpl, nStps): # Eager Execution\n",
    "    \"\"\" Computes the price of an Asian call option under the SABR model.\n",
    "\n",
    "      Args:\n",
    "        params: A float32 tensor at which the density is to be computed.\n",
    "        mcmSmpl: int, the number of Monte Carlo samples.\n",
    "        nStps: int, the number of discretization steps of the [0,T] interval.\n",
    "        strk: A list with strikes of arbitrary type.\n",
    "\n",
    "      Returns:\n",
    "        A float32 tensor of the normal density evaluated at the supplied points.\n",
    "\n",
    "    \"\"\"\n",
    "    #print('Tracing')\n",
    "\n",
    "    dt = maturity/tf.cast(nStps , dtype=tf.float32 ) # time increment\n",
    "    t =  tf.linspace(0.0, maturity, nStps+1) #time interval split\n",
    "\n",
    "    # Simulating SABR volatility Wiener process\n",
    "    paddings = tf.constant([[0, 0,], [1, 0]])\n",
    "    vol_wnr_inc = tf.sqrt(dt)*tf.random.normal((mcmSmpl, nStps), mean=0.0, stddev=1.0, dtype=tf.float32) # wiener process icrements with W0=0\n",
    "    vol_wnr_inc = tf.pad(vol_wnr_inc, paddings, \"CONSTANT\")\n",
    "    vol_wnr_proc = tf.cumsum(vol_wnr_inc, axis=1) # Wiener process - summation is done rowise\n",
    "    # Simulating SABR stock Wiener process\n",
    "    und_wnr_inc = rho*vol_wnr_inc[:,1:] +  tf.sqrt(1-tf.pow(rho,2))*tf.sqrt(dt)*tf.random.normal((mcmSmpl, nStps), mean=0.0, stddev=1.0, dtype=tf.float32) # wiener process icrements with W0=0\n",
    "    und_wnr_inc = tf.pad(und_wnr_inc, paddings, \"CONSTANT\")\n",
    "\n",
    "    # REGULAR PATHS\n",
    "    #Simulating SABR volatility path\n",
    "    hlp = alpha0*tf.exp( -0.5*tf.pow(vega,2)*t )\n",
    "\n",
    "    vol_path = hlp*tf.exp( vega*vol_wnr_proc )\n",
    "    #vol_path = alpha0*tf.exp( -0.5*tf.pow(vega,2)*t + vega*vol_wnr_proc ) # Volatility path with alpha0 included\n",
    "    intgr_vol_dt = dt*(tf.cumsum(tf.pow(vol_path,2),axis=1)[:,:nStps]) #Int [0,T] sigma_t**2 dt\n",
    "    intgr_vol_dWt = tf.cumsum((vol_path[:,:nStps])*(und_wnr_inc[:,1:]),axis=1) #Int [0,T] sigma_t dWt\n",
    "\n",
    "    # Simulating SABR stock path\n",
    "    und_path = S0*( tf.exp( tf.pad( -0.5*intgr_vol_dt + intgr_vol_dWt, paddings, \"CONSTANT\")  ) )\n",
    "\n",
    "    # ANTITHETIC PATHS\n",
    "    #Simulating SABR volatility path\n",
    "    vol_path_a = hlp*tf.exp(vega*(-vol_wnr_proc)) # alpha0*tf.exp( -0.5*tf.pow(vega,2)*t + vega*(-vol_wnr_proc) ) # Volatility path with alpha0 included\n",
    "    intgr_vol_dt_a = dt*(tf.cumsum(tf.pow(vol_path_a,2),axis=1)[:,:nStps]) #Int [0,T] sigma_t**2 dt\n",
    "    intgr_vol_dWt_a = tf.cumsum((vol_path_a[:,:nStps])*(-und_wnr_inc[:,1:]),axis=1) #Int [0,T] sigma_t dWt\n",
    "\n",
    "    # Simulating SABR stock path\n",
    "    und_path_a = S0*( tf.exp( tf.pad( -0.5*intgr_vol_dt_a + intgr_vol_dWt_a, paddings, \"CONSTANT\")  ) )\n",
    "\n",
    "    #del vol_wnr_proc, vol_wnr_inc, und_wnr_inc # This line slows down a code.\n",
    "\n",
    "    new_strike = tf.reshape( strk, [-1,1]) # Reshape strike to [[K1],[K2],...]\n",
    "    price_lst_mc = (tf.maximum(tf.math.reduce_mean(und_path,axis=1)-new_strike,0)+tf.maximum(tf.math.reduce_mean(und_path_a,axis=1)-new_strike,0))/2\n",
    "    price = tf.math.reduce_mean( price_lst_mc, axis=1  )\n",
    "\n",
    "    return  price"
   ]
  },
  {
   "cell_type": "code",
   "execution_count": null,
   "metadata": {
    "id": "ow_wpfNfGJtG"
   },
   "outputs": [],
   "source": [
    "def SABR_func_numpy(alpha0, vega, rho, S0, T, strk, mcSmpl, n):\n",
    "    \"\"\"Generates price of an Asian Call option.\n",
    "\n",
    "          Args:\n",
    "            alpha0: float, initial value of volatility\n",
    "            vega: float, volatility of volatility\n",
    "            rho: float, correlation\n",
    "            S0: float, initial price\n",
    "            T: float, maturity of the option\n",
    "            strk: array(float,), strike\n",
    "            mcSmpl: int, the number of Monte Carlo paths to generate\n",
    "            n: int, the number of intervals on which we split [0,T]\n",
    "\n",
    "          Returns:\n",
    "            array of floats of dimension len(strk).\n",
    "            \"\"\"\n",
    "\n",
    "    # initialise simulation params\n",
    "    dt = T/n\n",
    "    t = np.linspace(0, T, n+1)\n",
    "\n",
    "\n",
    "    # simulating Wiener Processes\n",
    "    vol_wnr_inc = np.zeros((mcSmpl,n+1)) # preallocate variable (1st elem will correspond to sigma0)\n",
    "    vol_wnr_inc[:,1:] = np.sqrt(dt)*np.random.normal(size = (mcSmpl, n)) # wiener process increments\n",
    "    vol_wnr_proc = np.cumsum(vol_wnr_inc, axis=1) # Wiener process. Summation in each subelement of wnr_inc (by row)\n",
    "\n",
    "    undr_wnr_inc = np.zeros((mcSmpl,n+1)) # preallocate variable (1st elem will correspond to S0)\n",
    "    #z = np.random.normal(size = (mcSmpl, n))\n",
    "    undr_wnr_inc[:,1:] = rho*vol_wnr_inc[:,1:] + np.sqrt(1-rho**2)*np.sqrt(dt)*np.random.normal(size = (mcSmpl, n)) # Correlated\n",
    "\n",
    "    # Paths\n",
    "    hlp = alpha0*np.exp(-0.5*(vega**2)*t)\n",
    "    path_vol =  hlp*np.exp(vega*vol_wnr_proc) #alpha0*np.exp( -0.5*(vega**2)*t + vega*vol_wnr_proc )\n",
    "    intgr_vol_dt = dt*(np.cumsum(path_vol**2,axis=1)[:,:n])\n",
    "    intgr_vol_dWt = np.cumsum((path_vol[:,:n])*(undr_wnr_inc[:,1:]),axis=1)\n",
    "\n",
    "    path_undr = np.zeros((mcSmpl,n+1))\n",
    "    path_undr[:,0] = S0\n",
    "    path_undr[:,1:] = S0*np.exp( -0.5*intgr_vol_dt + intgr_vol_dWt )\n",
    "\n",
    "    # Antithetic Path\n",
    "    #vol_wnr_proc = np.cumsum(-vol_wnr_inc, axis=1) # Wiener process. Summation in each subelement of wnr_inc (by row)\n",
    "\n",
    "    path_vol =  hlp*np.exp(vega*(-vol_wnr_proc)) #alpha0*np.exp( -0.5*(vega**2)*t + vega*(-vol_wnr_proc) )\n",
    "    intgr_vol_dt = dt*(np.cumsum(path_vol**2,axis=1)[:,:n])\n",
    "    intgr_vol_dWt = np.cumsum((path_vol[:,:n])*(-undr_wnr_inc[:,1:]),axis=1)\n",
    "\n",
    "    path_undr_a = np.zeros((mcSmpl,n+1))\n",
    "    path_undr_a[:,0] = S0\n",
    "    path_undr_a[:,1:] = S0*np.exp( -0.5*intgr_vol_dt + intgr_vol_dWt )\n",
    "\n",
    "    new_strike = np.reshape(strk, [-1,1]) # Reshape strike to [[K1],[K2],...]\n",
    "    final_price = np.mean( (np.maximum(np.mean(path_undr,axis=1)-new_strike,0)+np.maximum(np.mean(path_undr_a,axis=1)-new_strike,0))/2, axis=1)\n",
    "\n",
    "    return final_price"
   ]
  },
  {
   "cell_type": "code",
   "execution_count": null,
   "metadata": {
    "colab": {
     "base_uri": "https://localhost:8080/"
    },
    "id": "Hq1uQVMUJ9cO",
    "outputId": "9db5f781-f63e-47d7-f495-0f84b2e11415"
   },
   "outputs": [
    {
     "name": "stdout",
     "output_type": "stream",
     "text": [
      "Tracing\n"
     ]
    },
    {
     "data": {
      "text/plain": [
       "<tf.Tensor: shape=(2,), dtype=float32, numpy=array([4.9686403, 2.8433027], dtype=float32)>"
      ]
     },
     "execution_count": 6,
     "metadata": {},
     "output_type": "execute_result"
    }
   ],
   "source": [
    "# WARM UP for TRACING\n",
    "SABR_func_graph(S0=100., maturity=0.5, alpha0=0.3, vega=0.5, rho=-0.3, strk=tf.convert_to_tensor([100.,105.], dtype=tf.float32), mcmSmpl=100, nStps=50)"
   ]
  },
  {
   "cell_type": "code",
   "execution_count": null,
   "metadata": {
    "id": "s9Wb2eB2KlPw"
   },
   "outputs": [],
   "source": [
    "#SABR_func_eager(S0=100., maturity=0.5, alpha0=0.3, vega=0.5, rho=-0.3, strk=tf.convert_to_tensor([100.,105.], dtype=tf.float32), mcmSmpl=500000, nStps=50)"
   ]
  },
  {
   "cell_type": "code",
   "execution_count": null,
   "metadata": {
    "id": "OIyB129YKYHy"
   },
   "outputs": [],
   "source": [
    "#SABR_func_numpy(S0=100., T=0.5, alpha0=0.3, vega=0.5, rho=-0.3, strk=np.array([100.,105.]), n=500000, mcSmpl=50)"
   ]
  },
  {
   "cell_type": "markdown",
   "metadata": {
    "id": "8rxRszgZGKAe"
   },
   "source": [
    "# Numerical Comparison"
   ]
  },
  {
   "cell_type": "markdown",
   "metadata": {
    "id": "B2E83HYCS2OK"
   },
   "source": [
    "## As a function of Monte Carlo samples"
   ]
  },
  {
   "cell_type": "markdown",
   "metadata": {
    "id": "YEzCghVhvRtc"
   },
   "source": [
    "### CPU Run"
   ]
  },
  {
   "cell_type": "code",
   "execution_count": null,
   "metadata": {
    "id": "rO2G3rEMTNVD"
   },
   "outputs": [],
   "source": [
    "S0=100.\n",
    "strike = np.arange(90,110,1)\n",
    "maturity=1/12\n",
    "alpha0=0.3\n",
    "vega=0.5\n",
    "rho=-0.3\n",
    "nStps=30\n",
    "\n",
    "rng = [250000, 500000, 750000, 1000000, 1500000]"
   ]
  },
  {
   "cell_type": "code",
   "execution_count": null,
   "metadata": {
    "colab": {
     "base_uri": "https://localhost:8080/"
    },
    "id": "qHxfK1_-GKSK",
    "outputId": "3d840ce6-f24c-45c0-8041-5473c776542d"
   },
   "outputs": [
    {
     "data": {
      "text/plain": [
       "array([0.87567043, 1.79196405, 3.09502745, 4.19254827, 8.08946157])"
      ]
     },
     "execution_count": 49,
     "metadata": {},
     "output_type": "execute_result"
    }
   ],
   "source": [
    "# Tensor Flow Graph mode\n",
    "time_result_graph = []\n",
    "\n",
    "for i in rng:\n",
    "  interm_time = []\n",
    "  for j in range(10):\n",
    "    start_time = time.time()\n",
    "    price_proc= SABR_func_graph(S0, maturity, alpha0, vega, rho, tf.convert_to_tensor(strike, dtype=tf.float32), i, nStps)\n",
    "    end_time = time.time()\n",
    "    interm_time.append((end_time - start_time))\n",
    "  time_result_graph.append(interm_time)\n",
    "\n",
    "np.median(time_result_graph,axis=1)"
   ]
  },
  {
   "cell_type": "code",
   "execution_count": null,
   "metadata": {
    "colab": {
     "base_uri": "https://localhost:8080/"
    },
    "id": "krNx5qpdGKU_",
    "outputId": "76a15be1-be08-405e-be5e-1cf98ae1bd4d"
   },
   "outputs": [
    {
     "data": {
      "text/plain": [
       "array([ 1.34752381,  3.13124692,  5.13795769,  8.36981273, 11.57027161])"
      ]
     },
     "execution_count": 50,
     "metadata": {},
     "output_type": "execute_result"
    }
   ],
   "source": [
    "# Tensor Flow Eager mode\n",
    "time_result_eager = []\n",
    "for i in rng:\n",
    "  interm_time = []\n",
    "  for j in range(10):\n",
    "    start_time = time.time()\n",
    "    price_proc= SABR_func_eager(S0, maturity, alpha0, vega, rho, tf.convert_to_tensor(strike, dtype=tf.float32), i, nStps)\n",
    "    end_time = time.time()\n",
    "    interm_time.append((end_time - start_time))\n",
    "  time_result_eager.append(interm_time)\n",
    "\n",
    "np.median(time_result_eager,axis=1)"
   ]
  },
  {
   "cell_type": "code",
   "execution_count": null,
   "metadata": {
    "colab": {
     "base_uri": "https://localhost:8080/"
    },
    "id": "2mSh0ozlGKYH",
    "outputId": "76d14327-001c-45f9-974c-cd1fdb5d521d"
   },
   "outputs": [
    {
     "data": {
      "text/plain": [
       "array([ 1.62065446,  3.33186078,  5.05895722,  7.6970824 , 11.0308398 ])"
      ]
     },
     "execution_count": 51,
     "metadata": {},
     "output_type": "execute_result"
    }
   ],
   "source": [
    "# NumPy\n",
    "time_result_numpy = []\n",
    "for i in rng:\n",
    "  interm_time = []\n",
    "  for j in range(10):\n",
    "    start_time = time.time()\n",
    "    price_proc = SABR_func_numpy(alpha0, vega, rho, S0, maturity, strike, i, nStps)\n",
    "    end_time = time.time()\n",
    "    interm_time.append((end_time - start_time))\n",
    "  time_result_numpy.append(interm_time)\n",
    "\n",
    "np.median(time_result_numpy,axis=1)"
   ]
  },
  {
   "cell_type": "code",
   "execution_count": null,
   "metadata": {
    "id": "AQdJCRBLcsnx"
   },
   "outputs": [],
   "source": [
    "time_result_numpy = [ 1.62065446,  3.33186078,  5.05895722,  7.6970824 , 11.0308398 ]\n",
    "time_result_eager = [ 1.34752381,  3.13124692,  5.13795769,  8.36981273, 11.57027161]\n",
    "time_result_graph = [0.87567043, 1.79196405, 3.09502745, 4.19254827, 8.08946157]"
   ]
  },
  {
   "cell_type": "code",
   "execution_count": null,
   "metadata": {
    "colab": {
     "base_uri": "https://localhost:8080/",
     "height": 508
    },
    "id": "36ncezFu5ahs",
    "outputId": "e4e80bea-7c4b-4161-ad56-598909aa6627"
   },
   "outputs": [
    {
     "data": {
      "image/png": "[encoded data removed]",
      "text/plain": [
       "<Figure size 640x480 with 1 Axes>"
      ]
     },
     "metadata": {},
     "output_type": "display_data"
    }
   ],
   "source": [
    "n_size = list(map(lambda x: 'N= '+str(x/1000000), rng))\n",
    "results = {\n",
    "    'NumPy': np.round(time_result_numpy,1),\n",
    "    'Eager TF': np.round(time_result_eager,1),\n",
    "    'Graph TF': np.round(time_result_graph,1),\n",
    "}\n",
    "\n",
    "x = np.arange(len(n_size))\n",
    "width = 0.25  # the width of the bars\n",
    "multiplier = 0\n",
    "\n",
    "fig, ax = plt.subplots(layout='constrained')\n",
    "col_dict={'NumPy':'lightgrey','Eager TF':'lightskyblue','Graph TF':'dodgerblue'}\n",
    "for attribute, measurement in results.items():\n",
    "    offset = width * multiplier\n",
    "    rects = ax.bar(x + offset, measurement, width,color=col_dict[attribute],edgecolor='black', label=attribute)\n",
    "    ax.bar_label(rects, padding=3)\n",
    "    multiplier += 1\n",
    "\n",
    "# Add some text for labels, title and custom x-axis tick labels, etc.\n",
    "ax.set_ylabel('Execution time (sec)')\n",
    "ax.set_xlabel('The number of Monte Carlo samples (mil)')\n",
    "ax.set_title('Median (10 runs) running time', fontweight='bold')\n",
    "ax.set_xticks(x + width, n_size)\n",
    "ax.legend(loc='upper left', ncols=3)\n",
    "#ax.set_ylim(0, 250)\n",
    "\n",
    "plt.show()"
   ]
  },
  {
   "cell_type": "markdown",
   "metadata": {
    "id": "wZ1x53vOvPnu"
   },
   "source": [
    "### GPU Run"
   ]
  },
  {
   "cell_type": "code",
   "execution_count": null,
   "metadata": {
    "id": "LBD4pAEdiCGy"
   },
   "outputs": [],
   "source": [
    "S0=100.\n",
    "strike = np.arange(90,110,1)\n",
    "maturity=1/12\n",
    "alpha0=0.3\n",
    "vega=0.5\n",
    "rho=-0.3\n",
    "nStps=30\n",
    "\n",
    "rng = [250000, 500000, 750000, 1000000, 1500000]"
   ]
  },
  {
   "cell_type": "code",
   "execution_count": null,
   "metadata": {
    "colab": {
     "base_uri": "https://localhost:8080/"
    },
    "id": "eJZxRpLWveAL",
    "outputId": "2f1da43e-62de-40ed-c7a0-2611b4b88018"
   },
   "outputs": [
    {
     "data": {
      "text/plain": [
       "array([0.02345419, 0.03447056, 0.05181527, 0.06980252, 0.10172629])"
      ]
     },
     "execution_count": 11,
     "metadata": {},
     "output_type": "execute_result"
    }
   ],
   "source": [
    "# Tensor Flow Graph mode\n",
    "time_result_graph = []\n",
    "\n",
    "for i in rng:\n",
    "  interm_time = []\n",
    "  for j in range(10):\n",
    "    start_time = time.time()\n",
    "    price_proc= SABR_func_graph(S0, maturity, alpha0, vega, rho, tf.convert_to_tensor(strike, dtype=tf.float32), i, nStps)\n",
    "    end_time = time.time()\n",
    "    interm_time.append((end_time - start_time))\n",
    "  time_result_graph.append(interm_time)\n",
    "\n",
    "np.median(time_result_graph,axis=1)"
   ]
  },
  {
   "cell_type": "code",
   "execution_count": null,
   "metadata": {
    "colab": {
     "base_uri": "https://localhost:8080/"
    },
    "id": "OdNWiP-TveCz",
    "outputId": "128eddad-d169-4473-bfb9-67ec3664b653"
   },
   "outputs": [
    {
     "data": {
      "text/plain": [
       "array([0.024207  , 0.04206049, 0.06225169, 0.08187556, 0.11955762])"
      ]
     },
     "execution_count": 12,
     "metadata": {},
     "output_type": "execute_result"
    }
   ],
   "source": [
    "# Tensor Flow Eager mode\n",
    "time_result_eager = []\n",
    "for i in rng:\n",
    "  interm_time = []\n",
    "  for j in range(10):\n",
    "    start_time = time.time()\n",
    "    price_proc= SABR_func_eager(S0, maturity, alpha0, vega, rho, tf.convert_to_tensor(strike, dtype=tf.float32), i, nStps)\n",
    "    end_time = time.time()\n",
    "    interm_time.append((end_time - start_time))\n",
    "  time_result_eager.append(interm_time)\n",
    "\n",
    "np.median(time_result_eager,axis=1)"
   ]
  },
  {
   "cell_type": "code",
   "execution_count": null,
   "metadata": {
    "id": "vwFx1nV6ccvj"
   },
   "outputs": [],
   "source": [
    "time_result_eager_gpu = [0.024207  , 0.04206049, 0.06225169, 0.08187556, 0.11955762]\n",
    "time_result_graph_gpu = [0.02345419, 0.03447056, 0.05181527, 0.06980252, 0.10172629]"
   ]
  },
  {
   "cell_type": "code",
   "execution_count": null,
   "metadata": {
    "colab": {
     "base_uri": "https://localhost:8080/",
     "height": 508
    },
    "id": "uA6EgImI-pa7",
    "outputId": "216f125b-c4fe-43b3-de16-2ba903fef030"
   },
   "outputs": [
    {
     "data": {
      "image/png": "[encoded data removed]",
      "text/plain": [
       "<Figure size 640x480 with 1 Axes>"
      ]
     },
     "metadata": {},
     "output_type": "display_data"
    }
   ],
   "source": [
    "n_size = list(map(lambda x: 'N= '+str(x/1000000), rng))\n",
    "results = {\n",
    "    'Eager TF GPU': np.round(time_result_eager_gpu,2),\n",
    "    'Graph TF GPU': np.round(time_result_graph_gpu,2),\n",
    "}\n",
    "\n",
    "x = np.arange(len(n_size))\n",
    "width = 0.25  # the width of the bars\n",
    "multiplier = 0\n",
    "\n",
    "fig, ax = plt.subplots(layout='constrained')\n",
    "col_dict={'Eager TF GPU':'lightskyblue','Graph TF GPU':'dodgerblue'}\n",
    "for attribute, measurement in results.items():\n",
    "    offset = width * multiplier\n",
    "    rects = ax.bar(x + offset, measurement, width, color=col_dict[attribute],edgecolor='black',label=attribute)\n",
    "    ax.bar_label(rects, padding=3)\n",
    "    multiplier += 1\n",
    "\n",
    "# Add some text for labels, title and custom x-axis tick labels, etc.\n",
    "ax.set_ylabel('Execution time (sec)')\n",
    "ax.set_xlabel('The number of Monte Carlo samples (mil)')\n",
    "ax.set_title('Median (10 runs) running time', fontweight='bold')\n",
    "ax.set_xticks(x + width, n_size)\n",
    "ax.legend(loc='upper left', ncols=2)\n",
    "#ax.set_ylim(0, 250)\n",
    "\n",
    "plt.show()"
   ]
  },
  {
   "cell_type": "markdown",
   "metadata": {
    "id": "hjEhQbQNmKng"
   },
   "source": [
    "## As a function of parameter samples"
   ]
  },
  {
   "cell_type": "code",
   "execution_count": null,
   "metadata": {
    "id": "pzYCsn4CiCJr"
   },
   "outputs": [],
   "source": [
    "def sabr_params_gen(sigma0_min, sigma0_max, volvol_min, volvol_max, rho_min, rho_max, n_samples):\n",
    "\n",
    "  sigma_0 = np.random.uniform(sigma0_min,sigma0_max,n_samples)\n",
    "  volvol = np.random.uniform(volvol_min,volvol_max,n_samples)\n",
    "  rho = np.random.uniform(rho_min,rho_max,n_samples)\n",
    "\n",
    "  res = np.concatenate((sigma_0.reshape(n_samples,1), volvol.reshape(n_samples,1), rho.reshape(n_samples,1)), axis=1)\n",
    "\n",
    "  return  res"
   ]
  },
  {
   "cell_type": "code",
   "execution_count": null,
   "metadata": {
    "id": "Y1vUlgVur0LW"
   },
   "outputs": [],
   "source": [
    "S0=100.\n",
    "strike = np.array(np.arange(90.,110.,1.))\n",
    "maturity=1/12\n",
    "alpha0=0.3\n",
    "vega=0.5\n",
    "rho=-0.3\n",
    "nStps=30\n",
    "mcmSmpl=500000\n",
    "\n",
    "rng = [10,30,50,100]"
   ]
  },
  {
   "cell_type": "code",
   "execution_count": null,
   "metadata": {
    "colab": {
     "base_uri": "https://localhost:8080/"
    },
    "id": "5WpsnyogLN8e",
    "outputId": "c4cba532-3c3f-470d-a357-aa8fc67f5b30"
   },
   "outputs": [
    {
     "name": "stdout",
     "output_type": "stream",
     "text": [
      "Batch 10\n",
      "Batch 30\n",
      "Batch 50\n",
      "Batch 100\n"
     ]
    },
    {
     "data": {
      "text/plain": [
       "[26.0440456867218, 110.66869854927063, 164.63927674293518, 265.7270715236664]"
      ]
     },
     "execution_count": 12,
     "metadata": {},
     "output_type": "execute_result"
    }
   ],
   "source": [
    "# Graph Mode\n",
    "time_result_graph = []\n",
    "for i in rng:\n",
    "  print('Batch',i)\n",
    "  params = sabr_params_gen(sigma0_min=0.2, sigma0_max=0.8, volvol_min=0.3, volvol_max=1.5, rho_min=-0.9, rho_max=0.9, n_samples=i)\n",
    "  start_time = time.time()\n",
    "\n",
    "  [SABR_func_graph(S0, maturity, x[0], x[1], x[2], tf.convert_to_tensor(strike, dtype=tf.float32), mcmSmpl, nStps) for x in params]\n",
    "\n",
    "  end_time = time.time()\n",
    "  time_result_graph.append(end_time - start_time)\n",
    "\n",
    "time_result_graph"
   ]
  },
  {
   "cell_type": "code",
   "execution_count": null,
   "metadata": {
    "id": "kFRpEYy-WgyG"
   },
   "outputs": [],
   "source": []
  },
  {
   "cell_type": "code",
   "execution_count": null,
   "metadata": {
    "colab": {
     "base_uri": "https://localhost:8080/"
    },
    "id": "dLTByJp7SrKW",
    "outputId": "57728871-31ed-4ad2-cf23-faa160472cfa"
   },
   "outputs": [
    {
     "name": "stdout",
     "output_type": "stream",
     "text": [
      "Batch 10\n",
      "Batch 30\n",
      "Batch 50\n",
      "Batch 100\n"
     ]
    },
    {
     "data": {
      "text/plain": [
       "[24.86713743209839, 71.00004982948303, 122.06665468215942, 240.18021368980408]"
      ]
     },
     "execution_count": 14,
     "metadata": {},
     "output_type": "execute_result"
    }
   ],
   "source": [
    "# PARALLEL Graph Mode\n",
    "time_result_graph_parallel = []\n",
    "for i in rng:\n",
    "  print('Batch',i)\n",
    "  params = sabr_params_gen(sigma0_min=0.2, sigma0_max=0.8, volvol_min=0.3, volvol_max=1.5, rho_min=-0.9, rho_max=0.9, n_samples=i)\n",
    "  start_time = time.time()\n",
    "\n",
    "  tf.map_fn(fn=lambda x: SABR_func_graph(S0, maturity, x[0], x[1], x[2], tf.convert_to_tensor(strike, dtype=tf.float32), mcmSmpl, nStps) , elems=tf.constant(params,tf.float32), parallel_iterations=10);\n",
    "\n",
    "  end_time = time.time()\n",
    "  time_result_graph_parallel.append(end_time - start_time)\n",
    "\n",
    "time_result_graph_parallel"
   ]
  },
  {
   "cell_type": "code",
   "execution_count": null,
   "metadata": {
    "id": "T4PfsKxwcj_6"
   },
   "outputs": [],
   "source": []
  },
  {
   "cell_type": "code",
   "execution_count": null,
   "metadata": {
    "colab": {
     "base_uri": "https://localhost:8080/"
    },
    "id": "ihcVYr7MWyrO",
    "outputId": "39ea6019-c0af-4f7c-ba63-8df92e8bfb6b"
   },
   "outputs": [
    {
     "name": "stdout",
     "output_type": "stream",
     "text": [
      "Batch 10\n",
      "Batch 30\n",
      "Batch 50\n",
      "Batch 100\n"
     ]
    },
    {
     "data": {
      "text/plain": [
       "[34.474692821502686, 105.39584374427795, 176.86913561820984, 369.7765839099884]"
      ]
     },
     "execution_count": 15,
     "metadata": {},
     "output_type": "execute_result"
    }
   ],
   "source": [
    "# Regular NumPy\n",
    "time_result_numpy = []\n",
    "for i in rng:\n",
    "  print('Batch',i)\n",
    "  params = sabr_params_gen(sigma0_min=0.2, sigma0_max=0.8, volvol_min=0.3, volvol_max=1.5, rho_min=-0.9, rho_max=0.9, n_samples=i)\n",
    "  start_time = time.time()\n",
    "\n",
    "  [SABR_func_numpy(x[0],x[1],x[2], S0, maturity, strike, mcmSmpl, nStps) for x in params]\n",
    "\n",
    "  end_time = time.time()\n",
    "  time_result_numpy.append(end_time - start_time)\n",
    "\n",
    "time_result_numpy"
   ]
  },
  {
   "cell_type": "code",
   "execution_count": null,
   "metadata": {
    "id": "HUvDuGCHfM4s"
   },
   "outputs": [],
   "source": []
  },
  {
   "cell_type": "code",
   "execution_count": null,
   "metadata": {
    "colab": {
     "base_uri": "https://localhost:8080/"
    },
    "id": "CMuv__ErfNe5",
    "outputId": "43c42175-bb81-40d8-e827-9784226f52fa"
   },
   "outputs": [
    {
     "name": "stdout",
     "output_type": "stream",
     "text": [
      "Batch 10\n",
      "Batch 30\n",
      "Batch 50\n",
      "Batch 100\n"
     ]
    },
    {
     "data": {
      "text/plain": [
       "[29.526238679885864, 88.24899744987488, 144.98493361473083, 285.41661739349365]"
      ]
     },
     "execution_count": 16,
     "metadata": {},
     "output_type": "execute_result"
    }
   ],
   "source": [
    "# Parallel NumPy\n",
    "time_result_numpy_parallel = []\n",
    "for i in rng:\n",
    "  print('Batch', i)\n",
    "  ds = sabr_params_gen(sigma0_min=0.2, sigma0_max=0.8, volvol_min=0.3, volvol_max=1.5, rho_min=-0.9, rho_max=0.9, n_samples=i)\n",
    "  ds = list( map( lambda x: np.append(x,np.array([S0,maturity,strike,mcmSmpl,nStps],dtype=object)), ds) )\n",
    "  pool = Pool(processes = cpu_count())\n",
    "  start_time = time.time()\n",
    "\n",
    "  result = pool.starmap(SABR_func_numpy, ds )\n",
    "\n",
    "  end_time = time.time()\n",
    "  pool.close()\n",
    "  pool.join()\n",
    "  time_result_numpy_parallel.append(end_time - start_time)\n",
    "\n",
    "time_result_numpy_parallel"
   ]
  },
  {
   "cell_type": "code",
   "execution_count": null,
   "metadata": {
    "id": "OQNIBVxSWpBc"
   },
   "outputs": [],
   "source": []
  },
  {
   "cell_type": "code",
   "execution_count": null,
   "metadata": {
    "colab": {
     "base_uri": "https://localhost:8080/"
    },
    "id": "MJDrSIEVVSg-",
    "outputId": "7f9c2505-2752-4884-8161-d004799aea4a"
   },
   "outputs": [
    {
     "name": "stdout",
     "output_type": "stream",
     "text": [
      "Batch 10\n",
      "Batch 30\n",
      "Batch 50\n",
      "Batch 100\n"
     ]
    },
    {
     "data": {
      "text/plain": [
       "[0.4846475124359131,\n",
       " 1.0532121658325195,\n",
       " 1.8414995670318604,\n",
       " 3.6313071250915527]"
      ]
     },
     "execution_count": 12,
     "metadata": {},
     "output_type": "execute_result"
    }
   ],
   "source": [
    "# Graph Mode GPU RUN\n",
    "time_result_graph_gpu = []\n",
    "for i in rng:\n",
    "  print('Batch',i)\n",
    "  params = sabr_params_gen(sigma0_min=0.2, sigma0_max=0.8, volvol_min=0.3, volvol_max=1.5, rho_min=-0.9, rho_max=0.9, n_samples=i)\n",
    "  start_time = time.time()\n",
    "\n",
    "  [SABR_func_graph(S0, maturity, x[0], x[1], x[2], tf.convert_to_tensor(strike, dtype=tf.float32), mcmSmpl, nStps) for x in params]\n",
    "\n",
    "  end_time = time.time()\n",
    "  time_result_graph_gpu.append(end_time - start_time)\n",
    "\n",
    "time_result_graph_gpu"
   ]
  },
  {
   "cell_type": "code",
   "execution_count": null,
   "metadata": {
    "id": "tll-a2veUGnF"
   },
   "outputs": [],
   "source": []
  },
  {
   "cell_type": "code",
   "execution_count": null,
   "metadata": {
    "id": "hiZXzZJiLI3u"
   },
   "outputs": [],
   "source": [
    "time_result_numpy = [34.474692821502686, 105.39584374427795, 176.86913561820984, 369.7765839099884]\n",
    "time_result_numpy_parallel = [29.526238679885864, 88.24899744987488, 144.98493361473083, 285.41661739349365]\n",
    "time_result_graph = [26.0440456867218, 110.66869854927063, 164.63927674293518, 265.7270715236664]\n",
    "time_result_graph_parallel = [24.86713743209839, 71.00004982948303, 122.06665468215942, 240.18021368980408]\n",
    "time_result_graph_gpu = [0.4846475124359131, 1.0532121658325195, 1.8414995670318604, 3.6313071250915527]"
   ]
  },
  {
   "cell_type": "code",
   "execution_count": null,
   "metadata": {
    "colab": {
     "base_uri": "https://localhost:8080/",
     "height": 508
    },
    "id": "64LC6k_bUGvW",
    "outputId": "eae8dfff-025c-49c2-bab2-73c62279b428"
   },
   "outputs": [
    {
     "data": {
      "image/png": "[encoded data removed]",
      "text/plain": [
       "<Figure size 640x480 with 1 Axes>"
      ]
     },
     "metadata": {},
     "output_type": "display_data"
    }
   ],
   "source": [
    "n_size = list(map(lambda x: str(x), rng))\n",
    "results = {\n",
    "    'NumPy': np.round(time_result_numpy,1),\n",
    "    'NumPy Parallel': np.round(time_result_numpy_parallel,1),\n",
    "    'Graph TF': np.round(time_result_graph,1),\n",
    "    'Graph Parallel': np.round(time_result_graph_parallel,1),\n",
    "    'Graph GPU': np.round(time_result_graph_gpu,1),\n",
    "    #'Graph GPU XLA': np.round(time_result_graph_xla,1)\n",
    "}\n",
    "\n",
    "x = np.arange(len(n_size))\n",
    "width = 0.18  # the width of the bars\n",
    "multiplier = 0\n",
    "col_dict={'NumPy':'lightgrey','NumPy Parallel':'royalblue', 'Graph TF':'lightskyblue','Graph Parallel':'dodgerblue','Graph GPU':'darkviolet'}\n",
    "fig, ax = plt.subplots(layout='constrained')\n",
    "\n",
    "for attribute, measurement in results.items():\n",
    "    offset = width * multiplier\n",
    "    rects = ax.bar(x + offset, measurement, width, color=col_dict[attribute], edgecolor='black', label=attribute)\n",
    "    ax.bar_label(rects, padding=3)\n",
    "    multiplier += 1\n",
    "\n",
    "# Add some text for labels, title and custom x-axis tick labels, etc.\n",
    "ax.set_ylabel('Execution time (sec)')\n",
    "ax.set_xlabel('Sample size')\n",
    "ax.set_title('The SABR Running time', fontweight='bold')\n",
    "ax.set_xticks(x + width, n_size)\n",
    "ax.legend(loc='upper left', ncols=2)\n",
    "\n",
    "plt.show()"
   ]
  }
 ],
 "metadata": {
  "colab": {
   "collapsed_sections": [
    "-Dwr7PUfGJKd",
    "YEzCghVhvRtc",
    "wZ1x53vOvPnu",
    "hjEhQbQNmKng",
    "CYdHCfTCnerv"
   ],
   "provenance": []
  },
  "kernelspec": {
   "display_name": "Python 3 (ipykernel)",
   "language": "python",
   "name": "python3"
  },
  "language_info": {
   "codemirror_mode": {
    "name": "ipython",
    "version": 3
   },
   "file_extension": ".py",
   "mimetype": "text/x-python",
   "name": "python",
   "nbconvert_exporter": "python",
   "pygments_lexer": "ipython3",
   "version": "3.8.13"
  }
 },
 "nbformat": 4,
 "nbformat_minor": 1
}
